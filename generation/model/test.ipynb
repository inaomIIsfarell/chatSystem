{
 "cells": [
  {
   "cell_type": "code",
   "execution_count": 8,
   "metadata": {
    "collapsed": true
   },
   "outputs": [
    {
     "name": "stderr",
     "output_type": "stream",
     "text": [
      "\u001B[32m[2022-11-10 16:43:01,439] [    INFO]\u001B[0m - Already cached D:\\TOOLS\\ppnlpdata\\models\\unified_transformer-12L-cn-luge\\unified_transformer-12L-cn-luge.pdparams\u001B[0m\n",
      "\u001B[32m[2022-11-10 16:43:05,558] [    INFO]\u001B[0m - Already cached D:\\TOOLS\\ppnlpdata\\models\\unified_transformer-12L-cn-luge\\unified_transformer-12L-cn-vocab.txt\u001B[0m\n",
      "\u001B[32m[2022-11-10 16:43:05,559] [    INFO]\u001B[0m - Already cached D:\\TOOLS\\ppnlpdata\\models\\unified_transformer-12L-cn-luge\\unified_transformer-12L-cn-spm.model\u001B[0m\n",
      "\u001B[32m[2022-11-10 16:43:05,616] [    INFO]\u001B[0m - tokenizer config file saved in D:\\TOOLS\\ppnlpdata\\models\\unified_transformer-12L-cn-luge\\tokenizer_config.json\u001B[0m\n",
      "\u001B[32m[2022-11-10 16:43:05,618] [    INFO]\u001B[0m - Special tokens file saved in D:\\TOOLS\\ppnlpdata\\models\\unified_transformer-12L-cn-luge\\special_tokens_map.json\u001B[0m\n"
     ]
    },
    {
     "data": {
      "text/plain": "([20, 14], [20, 1])"
     },
     "execution_count": 8,
     "metadata": {},
     "output_type": "execute_result"
    }
   ],
   "source": [
    "from args import parse_args\n",
    "from paddlenlp.transformers import UnifiedTransformerLMHeadModel, UnifiedTransformerTokenizer\n",
    "from generate import interaction\n",
    "\n",
    "args = parse_args()\n",
    "model = UnifiedTransformerLMHeadModel.from_pretrained(args.model_name_or_path)\n",
    "tokenizer = UnifiedTransformerTokenizer.from_pretrained(args.model_name_or_path)\n",
    "user_input = '你好'\n",
    "encoded_input = tokenizer.dialogue_encode(\n",
    "    user_input,\n",
    "    add_start_token_as_response=True,\n",
    "    return_tensors=True,\n",
    "    is_split_into_words=False\n",
    ")\n",
    "ids, scores = model.generate(\n",
    "    input_ids=encoded_input['input_ids'],\n",
    "    token_type_ids=encoded_input['token_type_ids'],\n",
    "    position_ids=encoded_input['position_ids'],\n",
    "    attention_mask=encoded_input['attention_mask'],\n",
    "    decode_strategy=args.decode_strategy,\n",
    "    top_k=args.top_k,\n",
    "    num_return_sequences=args.num_return_sequence\n",
    ")\n",
    "ids.shape, scores.shape\n",
    "# predictor = interaction(args)\n",
    "# res = predictor.infer(user_input='你好')\n",
    "# res"
   ]
  }
 ],
 "metadata": {
  "kernelspec": {
   "display_name": "Python 3",
   "language": "python",
   "name": "python3"
  },
  "language_info": {
   "codemirror_mode": {
    "name": "ipython",
    "version": 2
   },
   "file_extension": ".py",
   "mimetype": "text/x-python",
   "name": "python",
   "nbconvert_exporter": "python",
   "pygments_lexer": "ipython2",
   "version": "2.7.6"
  }
 },
 "nbformat": 4,
 "nbformat_minor": 0
}